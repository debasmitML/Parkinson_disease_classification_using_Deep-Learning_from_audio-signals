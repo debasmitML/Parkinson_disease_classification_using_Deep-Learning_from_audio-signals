{
 "cells": [
  {
   "cell_type": "code",
   "execution_count": 21,
   "id": "9a06de96",
   "metadata": {},
   "outputs": [],
   "source": [
    "import numpy as np\n",
    "import pandas as pd\n",
    "import matplotlib.pyplot as plt\n",
    "%matplotlib inline\n",
    "import tensorflow.keras\n",
    "from tensorflow.keras.preprocessing.image import ImageDataGenerator\n",
    "import cv2"
   ]
  },
  {
   "cell_type": "code",
   "execution_count": 2,
   "id": "c8ff5c31",
   "metadata": {},
   "outputs": [],
   "source": [
    "train_datagen=ImageDataGenerator(rescale=1./255,\n",
    "                                 rotation_range=45,\n",
    "                                 width_shift_range=0.2,\n",
    "                                 height_shift_range=0.2,\n",
    "                                 shear_range=0.2,\n",
    "                                 zoom_range=0.2,\n",
    "                                 horizontal_flip=True,\n",
    "                                 fill_mode='constant',\n",
    "                                 cval=125\n",
    "                                 \n",
    "                                 )\n",
    "validation_datagen=ImageDataGenerator(rescale=1./255\n",
    ")\n",
    "test_datagen=ImageDataGenerator(rescale=1./255\n",
    ")"
   ]
  },
  {
   "cell_type": "code",
   "execution_count": 3,
   "id": "690d3c5d",
   "metadata": {},
   "outputs": [
    {
     "name": "stdout",
     "output_type": "stream",
     "text": [
      "Found 102 images belonging to 1 classes.\n",
      "Found 80 images belonging to 1 classes.\n"
     ]
    }
   ],
   "source": [
    "i = 0\n",
    "import os\n",
    "for batch in train_datagen.flow_from_directory(directory=r'F:\\main_images_wavelet_binary\\train\\normal', \n",
    "                                         batch_size=16,  \n",
    "                                         target_size=(256, 256),\n",
    "                                         color_mode=\"rgb\",\n",
    "                                         save_to_dir=r'F:\\augmented_main_images_wavelet_binary\\train\\normal', \n",
    "                                         save_prefix='aug', \n",
    "                                         save_format='png'):\n",
    "    i += 1\n",
    "    if i > 49:\n",
    "        break \n",
    "k= 0\n",
    "import os\n",
    "for batch in train_datagen.flow_from_directory(directory=r'F:\\main_images_wavelet_binary\\train\\PD', \n",
    "                                         batch_size=16,  \n",
    "                                         target_size=(256, 256),\n",
    "                                         color_mode=\"rgb\",\n",
    "                                         save_to_dir=r'F:\\augmented_main_images_wavelet_binary\\train\\PD', \n",
    "                                         save_prefix='aug', \n",
    "                                         save_format='png'):\n",
    "    k += 1\n",
    "    if k > 64:\n",
    "        break "
   ]
  },
  {
   "cell_type": "code",
   "execution_count": 4,
   "id": "37b89aef",
   "metadata": {},
   "outputs": [],
   "source": [
    "import glob\n",
    "import os"
   ]
  },
  {
   "cell_type": "code",
   "execution_count": 5,
   "id": "7d918ddb",
   "metadata": {},
   "outputs": [],
   "source": [
    "size=224\n",
    "\n",
    "train_images=[]\n",
    "train_labels=[]\n",
    "\n",
    "for directory_path in glob.glob(\"F:/augmented_main_images_wavelet_binary/train/*\"):\n",
    "    label=directory_path.split(\"\\\\\")[-1]\n",
    "    for img_path in glob.glob(os.path.join(directory_path,\"*.png\")):\n",
    "        img=cv2.imread(img_path,cv2.IMREAD_COLOR)\n",
    "        img=cv2.resize(img,(size,size))\n",
    "        img=cv2.cvtColor(img,cv2.COLOR_RGB2BGR)\n",
    "        train_images.append(img)\n",
    "        train_labels.append(label)\n",
    "\n",
    "\n",
    "train_images=np.array(train_images)\n",
    "train_labels=np.array(train_labels)\n",
    "\n",
    "test_images=[]\n",
    "test_labels=[]\n",
    "\n",
    "for directory_path in glob.glob(\"F:/main_images_wavelet_binary/val/*\"):\n",
    "    fruit_label=directory_path.split(\"\\\\\")[-1]\n",
    "    for img_path in glob.glob(os.path.join(directory_path,\"*.png\")):\n",
    "        img=cv2.imread(img_path,cv2.IMREAD_COLOR)\n",
    "        img=cv2.resize(img,(size,size))\n",
    "        img=cv2.cvtColor(img,cv2.COLOR_RGB2BGR)\n",
    "        test_images.append(img)\n",
    "        test_labels.append(fruit_label)\n",
    "\n",
    "test_images=np.array(test_images)\n",
    "test_labels=np.array(test_labels)"
   ]
  },
  {
   "cell_type": "code",
   "execution_count": 6,
   "id": "d526a1c3",
   "metadata": {},
   "outputs": [],
   "source": [
    "from sklearn import preprocessing\n",
    "le=preprocessing.LabelEncoder()\n",
    "le.fit(test_labels)\n",
    "test_labels_encoded=le.transform(test_labels)\n",
    "le.fit(train_labels)\n",
    "train_labels_encoded=le.transform(train_labels)\n",
    "\n",
    "\n",
    "x_train,y_train,x_test,y_test=train_images,train_labels_encoded,test_images,test_labels_encoded\n",
    "\n",
    "x_train,x_test=x_train/255.0,x_test/255.0\n"
   ]
  },
  {
   "cell_type": "code",
   "execution_count": 7,
   "id": "dec9e624",
   "metadata": {},
   "outputs": [],
   "source": [
    "from tensorflow.keras.models import Model,Sequential\n",
    "from tensorflow.keras.layers import Dense,Flatten,Conv2D,MaxPooling2D,Dropout"
   ]
  },
  {
   "cell_type": "code",
   "execution_count": 8,
   "id": "475fb192",
   "metadata": {},
   "outputs": [],
   "source": [
    "import seaborn as sns\n",
    "from tensorflow.keras.applications.vgg16 import VGG16"
   ]
  },
  {
   "cell_type": "code",
   "execution_count": 9,
   "id": "a35ae04b",
   "metadata": {},
   "outputs": [],
   "source": [
    "VGG_model=VGG16(weights='imagenet',include_top=False,input_shape=(size,size,3))\n",
    "\n",
    "for layer in VGG_model.layers:\n",
    "    layer.trainable=False\n",
    "\n",
    "feature_extractor=VGG_model.predict(x_train)\n",
    "features=feature_extractor.reshape(feature_extractor.shape[0],-1)\n",
    "\n",
    "\n",
    "X=features\n",
    "\n",
    "\n",
    "\n",
    "\n"
   ]
  },
  {
   "cell_type": "code",
   "execution_count": 10,
   "id": "27219799",
   "metadata": {},
   "outputs": [],
   "source": [
    "X_test_feature=VGG_model.predict(x_test)\n",
    "X_test_features=X_test_feature.reshape(X_test_feature.shape[0],-1)\n"
   ]
  },
  {
   "cell_type": "code",
   "execution_count": 11,
   "id": "75e6183d",
   "metadata": {},
   "outputs": [
    {
     "data": {
      "text/plain": [
       "RandomForestClassifier(random_state=42)"
      ]
     },
     "execution_count": 11,
     "metadata": {},
     "output_type": "execute_result"
    }
   ],
   "source": [
    "from sklearn.ensemble import RandomForestClassifier\n",
    "RF=RandomForestClassifier(n_estimators=100,random_state=42)\n",
    "\n",
    "RF.fit(X,y_train)"
   ]
  },
  {
   "cell_type": "code",
   "execution_count": 12,
   "id": "f3f798a9",
   "metadata": {},
   "outputs": [
    {
     "name": "stdout",
     "output_type": "stream",
     "text": [
      "Accuracy=  0.8913043478260869\n"
     ]
    }
   ],
   "source": [
    "X_test_feature=VGG_model.predict(x_test)\n",
    "X_test_features=X_test_feature.reshape(X_test_feature.shape[0],-1)\n",
    "\n",
    "prediction_RF=RF.predict(X_test_features)\n",
    "prediction_RF=le.inverse_transform(prediction_RF)\n",
    "\n",
    "from sklearn import metrics\n",
    "print(print(\"testing_accuracy: %.2f%%\" % (testing_accuracy*100)))"
   ]
  },
  {
   "cell_type": "code",
   "execution_count": 13,
   "id": "709a7851",
   "metadata": {},
   "outputs": [
    {
     "data": {
      "text/plain": [
       "<AxesSubplot:>"
      ]
     },
     "execution_count": 13,
     "metadata": {},
     "output_type": "execute_result"
    },
    {
     "data": {
      "image/png": "[encoded data removed]",
      "text/plain": [
       "<Figure size 432x288 with 2 Axes>"
      ]
     },
     "metadata": {
      "needs_background": "light"
     },
     "output_type": "display_data"
    }
   ],
   "source": [
    "from sklearn.metrics import confusion_matrix\n",
    "cm1=confusion_matrix(test_labels,prediction_RF)\n",
    "sns.heatmap(cm1,annot=True)"
   ]
  },
  {
   "cell_type": "code",
   "execution_count": 14,
   "id": "1e620051",
   "metadata": {},
   "outputs": [
    {
     "name": "stdout",
     "output_type": "stream",
     "text": [
      "Accuracy=  0.9130434782608695\n"
     ]
    }
   ],
   "source": [
    "from sklearn.svm import SVC\n",
    "SF=SVC(kernel='rbf',C=13)\n",
    "SF.fit(X,y_train)\n",
    "\n",
    "prediction_SF=SF.predict(X_test_features)\n",
    "prediction_SF=le.inverse_transform(prediction_SF)\n",
    "\n",
    "from sklearn import metrics\n",
    "print(\"Accuracy= \",metrics.accuracy_score(test_labels,prediction_SF))"
   ]
  },
  {
   "cell_type": "code",
   "execution_count": 15,
   "id": "4edc2be9",
   "metadata": {},
   "outputs": [
    {
     "data": {
      "text/plain": [
       "<AxesSubplot:>"
      ]
     },
     "execution_count": 15,
     "metadata": {},
     "output_type": "execute_result"
    },
    {
     "data": {
      "image/png": "[encoded data removed]",
      "text/plain": [
       "<Figure size 432x288 with 2 Axes>"
      ]
     },
     "metadata": {
      "needs_background": "light"
     },
     "output_type": "display_data"
    }
   ],
   "source": [
    "from sklearn.metrics import confusion_matrix\n",
    "cm1=confusion_matrix(test_labels,prediction_SF)\n",
    "sns.heatmap(cm1,annot=True)"
   ]
  },
  {
   "cell_type": "code",
   "execution_count": 16,
   "id": "e9352834",
   "metadata": {},
   "outputs": [
    {
     "name": "stdout",
     "output_type": "stream",
     "text": [
      "Accuracy=  0.8478260869565217\n"
     ]
    },
    {
     "name": "stderr",
     "output_type": "stream",
     "text": [
      "c:\\users\\debu\\appdata\\local\\programs\\python\\python38\\lib\\site-packages\\sklearn\\linear_model\\_logistic.py:814: ConvergenceWarning: lbfgs failed to converge (status=1):\n",
      "STOP: TOTAL NO. of ITERATIONS REACHED LIMIT.\n",
      "\n",
      "Increase the number of iterations (max_iter) or scale the data as shown in:\n",
      "    https://scikit-learn.org/stable/modules/preprocessing.html\n",
      "Please also refer to the documentation for alternative solver options:\n",
      "    https://scikit-learn.org/stable/modules/linear_model.html#logistic-regression\n",
      "  n_iter_i = _check_optimize_result(\n"
     ]
    }
   ],
   "source": [
    "from sklearn.linear_model import LogisticRegression\n",
    "LF=LogisticRegression()\n",
    "LF.fit(X,y_train)\n",
    "\n",
    "prediction_LF=LF.predict(X_test_features)\n",
    "prediction_LF=le.inverse_transform(prediction_LF)\n",
    "\n",
    "from sklearn import metrics\n",
    "print(\"Accuracy= \",metrics.accuracy_score(test_labels,prediction_LF))"
   ]
  },
  {
   "cell_type": "code",
   "execution_count": 17,
   "id": "d6927b79",
   "metadata": {},
   "outputs": [
    {
     "data": {
      "text/plain": [
       "<AxesSubplot:>"
      ]
     },
     "execution_count": 17,
     "metadata": {},
     "output_type": "execute_result"
    },
    {
     "data": {
      "image/png": "[encoded data removed]",
      "text/plain": [
       "<Figure size 432x288 with 2 Axes>"
      ]
     },
     "metadata": {
      "needs_background": "light"
     },
     "output_type": "display_data"
    }
   ],
   "source": [
    "cm2=confusion_matrix(test_labels,prediction_LF)\n",
    "sns.heatmap(cm2,annot=True)"
   ]
  },
  {
   "cell_type": "code",
   "execution_count": 18,
   "id": "3c86bc34",
   "metadata": {},
   "outputs": [
    {
     "name": "stdout",
     "output_type": "stream",
     "text": [
      "Accuracy=  0.8043478260869565\n"
     ]
    }
   ],
   "source": [
    "from sklearn.neighbors import KNeighborsClassifier\n",
    "knn=KNeighborsClassifier(n_neighbors=2,weights='uniform',algorithm='brute',metric='minkowski')\n",
    "knn.fit(X,y_train)\n",
    "prediction_knn=knn.predict(X_test_features)\n",
    "prediction_knn=le.inverse_transform(prediction_knn)\n",
    "from sklearn import metrics\n",
    "print(\"Accuracy= \",metrics.accuracy_score(test_labels,prediction_knn))"
   ]
  },
  {
   "cell_type": "code",
   "execution_count": 19,
   "id": "e2326c4b",
   "metadata": {},
   "outputs": [
    {
     "data": {
      "text/plain": [
       "0.8478260869565217"
      ]
     },
     "execution_count": 19,
     "metadata": {},
     "output_type": "execute_result"
    }
   ],
   "source": [
    "LF.score(X_test_features,y_test)"
   ]
  },
  {
   "cell_type": "markdown",
   "id": "89e71cb3",
   "metadata": {},
   "source": [
    "from sklearn.ensemble import RandomForestClassifier\n",
    "RF=RandomForestClassifier(n_estimators=300,random_state=42)\n",
    "\n",
    "RF.fit(X,y_train)"
   ]
  },
  {
   "cell_type": "code",
   "execution_count": 20,
   "id": "0b8024e3",
   "metadata": {},
   "outputs": [
    {
     "name": "stdout",
     "output_type": "stream",
     "text": [
      "Accuracy=  0.8913043478260869\n"
     ]
    }
   ],
   "source": [
    "from sklearn.ensemble import RandomForestClassifier\n",
    "RF=RandomForestClassifier(n_estimators=200,random_state=42)\n",
    "\n",
    "RF.fit(X,y_train)\n",
    "\n",
    "prediction_RF=RF\n",
    "prediction_RF=RF.predict(X_test_features)\n",
    "prediction_RF=le.inverse_transform(prediction_RF)\n",
    "\n",
    "from sklearn import metrics\n",
    "print(\"Accuracy= \",metrics.accuracy_score(test_labels,prediction_RF))"
   ]
  },
  {
   "cell_type": "code",
   "execution_count": null,
   "id": "00fa252d",
   "metadata": {},
   "outputs": [],
   "source": [
    "\n",
    "\n",
    "\n",
    " "
   ]
  },
  {
   "cell_type": "code",
   "execution_count": null,
   "id": "9e389530",
   "metadata": {},
   "outputs": [],
   "source": []
  }
 ],
 "metadata": {
  "kernelspec": {
   "display_name": "Python 3 (ipykernel)",
   "language": "python",
   "name": "python3"
  },
  "language_info": {
   "codemirror_mode": {
    "name": "ipython",
    "version": 3
   },
   "file_extension": ".py",
   "mimetype": "text/x-python",
   "name": "python",
   "nbconvert_exporter": "python",
   "pygments_lexer": "ipython3",
   "version": "3.8.0"
  }
 },
 "nbformat": 4,
 "nbformat_minor": 5
}
